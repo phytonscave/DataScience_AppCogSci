{
 "cells": [
  {
   "cell_type": "markdown",
   "id": "30e9ce05",
   "metadata": {},
   "source": [
    "# Laboratory exercise 4\n",
    "\n",
    "In this laboratory exercise you will use the questionnaire and answers given below"
   ]
  },
  {
   "cell_type": "code",
   "execution_count": null,
   "id": "d6820020",
   "metadata": {},
   "outputs": [],
   "source": [
    "import pandas as pd"
   ]
  },
  {
   "cell_type": "code",
   "execution_count": null,
   "id": "c53f916c",
   "metadata": {},
   "outputs": [],
   "source": [
    "questionnaire = pd.DataFrame({'Q1': [1, 2, 2, 3, 2, 2, 3, 3, 2, 3],\n",
    "                              'Q2': [1, 1, 1, 2, 3, 3, 2, 3, 3, 3],\n",
    "                              'Q3': [1, 1, 2, 1, 2, 3, 3, 3, 2, 3]})"
   ]
  },
  {
   "cell_type": "markdown",
   "id": "ce36a49d",
   "metadata": {},
   "source": [
    "1. Write a function to detrmine the realiability of the questionnaire answers with Cronbach's Alpha."
   ]
  },
  {
   "cell_type": "code",
   "execution_count": 2,
   "id": "6bc45d48",
   "metadata": {},
   "outputs": [
    {
     "name": "stdout",
     "output_type": "stream",
     "text": [
      "Cronbach's Alpha: 0.7016129032258063\n"
     ]
    }
   ],
   "source": [
    "import pandas as pd\n",
    "from itertools import combinations\n",
    "\n",
    "def cronbach_alpha(data):\n",
    "    items = data.shape[1]\n",
    "    variances = data.var()\n",
    "    total_variance = variances.sum()\n",
    "    \n",
    "    \n",
    "    covariance_matrix = data.cov()\n",
    "    \n",
    "   \n",
    "    sum_of_covariances = sum([covariance_matrix.iloc[j, i] for i, j in combinations(range(items), 2)])\n",
    "    \n",
    "   \n",
    "    cronbach_alpha = (items / (items - 1)) * (1 - (sum_of_covariances / total_variance))\n",
    "    \n",
    "    return cronbach_alpha\n",
    "\n",
    "\n",
    "questionnaire = pd.DataFrame({'Q1': [1, 2, 2, 3, 2, 2, 3, 3, 2, 3],\n",
    "                              'Q2': [1, 1, 1, 2, 3, 3, 2, 3, 3, 3],\n",
    "                              'Q3': [1, 1, 2, 1, 2, 3, 3, 3, 2, 3]})\n",
    "\n",
    "alpha = cronbach_alpha(questionnaire)\n",
    "print(f\"Cronbach's Alpha: {alpha}\")\n",
    "\n",
    "\n"
   ]
  },
  {
   "cell_type": "markdown",
   "id": "69cb9d0a",
   "metadata": {},
   "source": [
    "2. Explain the differences between in-house data labeling, crowdsourcing and outsourcing. "
   ]
  },
  {
   "cell_type": "markdown",
   "id": "cd92c200",
   "metadata": {},
   "source": [
    "In-house data labeling ensures the highest quality. They are usually marked by scientists or people in the organization (they can also be part-time employees / people for whom data marking is not in the job description).\n",
    "\n",
    "Crowdsourcing is using help of a large number of freelancers registered on the crowdsourcing platform (they have tens of thousands of registered data annotators). Annotated datasets mostly consist of trivial data, e.g. images of animals, plants and natural environments, and do not require additional expertise.\n",
    "\n",
    "Outsourcing is a middle ground between crowdsourcing and in-house labeling. The task of annotating data is left to an individual or organization that has trained annotators. One of the advantages of outsourcing to individuals is that they can be evaluated on a particular topic before the work is handed over to them.\n"
   ]
  },
  {
   "cell_type": "markdown",
   "id": "ce3d3e91",
   "metadata": {},
   "source": [
    "3. Explain the main differences between annotation for image classification, object detection and image segmentation."
   ]
  },
  {
   "cell_type": "markdown",
   "id": "21116b76",
   "metadata": {},
   "source": [
    "Image classification is adding a tag to an image. The number of unique tags in the entire database is the number of\n",
    "classes that the model can classify.\n",
    "\n",
    "Object detection is detection of objects and their locations.Each object is marked with the smallest possible rectangle that\n",
    "surrounds it (bounding box).Usually a label is attached to each rectangle\n",
    "\n",
    "Image segmentation is separating image objects from their background and other objects in\n",
    "the image. Uually result in images of the same size as the originalimage, containing 1 where the object is present and 0 otherwise."
   ]
  }
 ],
 "metadata": {
  "kernelspec": {
   "display_name": "Python 3 (ipykernel)",
   "language": "python",
   "name": "python3"
  },
  "language_info": {
   "codemirror_mode": {
    "name": "ipython",
    "version": 3
   },
   "file_extension": ".py",
   "mimetype": "text/x-python",
   "name": "python",
   "nbconvert_exporter": "python",
   "pygments_lexer": "ipython3",
   "version": "3.11.5"
  }
 },
 "nbformat": 4,
 "nbformat_minor": 5
}
